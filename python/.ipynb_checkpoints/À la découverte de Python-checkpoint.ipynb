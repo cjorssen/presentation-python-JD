{
 "cells": [
  {
   "cell_type": "markdown",
   "metadata": {},
   "source": [
    "<img src=\"CC-BY-NC-ND.png\" alt=\"Drawing\" style=\"width: 150px;\"/> \n",
    "\n",
    "**Auteur** : Christophe Jorssen\n",
    "\n",
    "# À la découverte de Python"
   ]
  },
  {
   "cell_type": "code",
   "execution_count": null,
   "metadata": {},
   "outputs": [],
   "source": [
    "%pprint"
   ]
  },
  {
   "cell_type": "markdown",
   "metadata": {},
   "source": [
    "## Expressions\n",
    "\n",
    "**Définition** Une expression est une suite de caractères définissant une *valeur*. Pour déterminer cette valeur, l'interpréteur Python doit *évaluer* l'expression en la parcourant (*parse* en anglais).\n",
    "\n",
    "**Quelques exemples d'expressions (`In`) et de leur évaluation (`Out`)**"
   ]
  },
  {
   "cell_type": "code",
   "execution_count": null,
   "metadata": {},
   "outputs": [],
   "source": [
    "42 + 3"
   ]
  },
  {
   "cell_type": "code",
   "execution_count": null,
   "metadata": {},
   "outputs": [],
   "source": [
    "1 + (2 * (-3))"
   ]
  },
  {
   "cell_type": "code",
   "execution_count": null,
   "metadata": {},
   "outputs": [],
   "source": [
    "3./2."
   ]
  },
  {
   "cell_type": "code",
   "execution_count": null,
   "metadata": {},
   "outputs": [],
   "source": [
    "\"Toto\""
   ]
  },
  {
   "cell_type": "code",
   "execution_count": null,
   "metadata": {},
   "outputs": [],
   "source": [
    "4 * [1]"
   ]
  },
  {
   "cell_type": "code",
   "execution_count": null,
   "metadata": {},
   "outputs": [],
   "source": [
    "2 + [1, 2, 3, 4][0]"
   ]
  },
  {
   "cell_type": "markdown",
   "metadata": {},
   "source": [
    "Parfois, l'interpréteur ne peut évaluer l'expression car :\n",
    "\n",
    "* il lui manque des informations ;"
   ]
  },
  {
   "cell_type": "code",
   "execution_count": null,
   "metadata": {},
   "outputs": [],
   "source": [
    "1 + x"
   ]
  },
  {
   "cell_type": "markdown",
   "metadata": {},
   "source": [
    "* l'expression est inintelligible pour l'interpréteur (elle ne respecte pas la *syntaxe* Python)."
   ]
  },
  {
   "cell_type": "code",
   "execution_count": null,
   "metadata": {},
   "outputs": [],
   "source": [
    "1 + "
   ]
  },
  {
   "cell_type": "markdown",
   "metadata": {},
   "source": [
    "Dans une expression, on peut trouver les éléments suivants :\n",
    "\n",
    "* une constante (par exemple `100`, `'Toto'`, `[1, 2, 3]`);\n",
    "* une nom de variable (par exemple `x`, `n`, `Toto`, `_n00b_`).\n",
    "\n",
    "Ces éléments peuvent être réunis à l'aide d'opérateurs (par exemple `x + 1`).\n",
    "\n",
    "On peut également trouver des appels à des fonctions : `f(1)` ou `f(x)`.\n",
    "\n",
    "Mais ce n'est pas tout... Une expression peut aussi faire apparaître d'autres expressions, par exemple regroupées à l'aide de parenthèses."
   ]
  },
  {
   "cell_type": "markdown",
   "metadata": {},
   "source": [
    "## Types\n",
    "\n",
    "En Python, les valeurs sont *typées* selon la *classe* de l'objet qu'elles représentent :"
   ]
  },
  {
   "cell_type": "code",
   "execution_count": null,
   "metadata": {},
   "outputs": [],
   "source": [
    "type(1)"
   ]
  },
  {
   "cell_type": "code",
   "execution_count": null,
   "metadata": {},
   "outputs": [],
   "source": [
    "type(1.)"
   ]
  },
  {
   "cell_type": "code",
   "execution_count": null,
   "metadata": {},
   "outputs": [],
   "source": [
    "type('Toto')"
   ]
  },
  {
   "cell_type": "code",
   "execution_count": null,
   "metadata": {},
   "outputs": [],
   "source": [
    "type(True)"
   ]
  },
  {
   "cell_type": "code",
   "execution_count": null,
   "metadata": {},
   "outputs": [],
   "source": [
    "type([1, 2])"
   ]
  },
  {
   "cell_type": "markdown",
   "metadata": {},
   "source": [
    "En revanche, les expressions n'ont pas de type *a priori* : leur type dépend du type des sous-expressions les composant :"
   ]
  },
  {
   "cell_type": "code",
   "execution_count": null,
   "metadata": {},
   "outputs": [],
   "source": [
    "type(1 + 2)"
   ]
  },
  {
   "cell_type": "code",
   "execution_count": null,
   "metadata": {},
   "outputs": [],
   "source": [
    "type(1. + 2)"
   ]
  },
  {
   "cell_type": "markdown",
   "metadata": {},
   "source": [
    "On constate que certains types l'« emportent » sur d'autres au sein d'expressions. Mais ce n'est pas toujours le cas :"
   ]
  },
  {
   "cell_type": "code",
   "execution_count": null,
   "metadata": {},
   "outputs": [],
   "source": [
    "1 + '2'"
   ]
  },
  {
   "cell_type": "markdown",
   "metadata": {},
   "source": [
    "### Le type entier `int`\n",
    "\n",
    "Les constantes de ce type sont une suite de chiffres (généralement compris entre `0` et `9` puisqu'on utilise la représentation décimale), éventuellement précédée d'un signe `-` dans le cas d'un entier négatif."
   ]
  },
  {
   "cell_type": "code",
   "execution_count": null,
   "metadata": {},
   "outputs": [],
   "source": [
    "15268"
   ]
  },
  {
   "cell_type": "code",
   "execution_count": null,
   "metadata": {},
   "outputs": [],
   "source": [
    "-256668915652"
   ]
  },
  {
   "cell_type": "markdown",
   "metadata": {},
   "source": [
    "Les opérateurs (*infixes*, c'est-à-dire se plaçant entre deux entiers) sur les entiers sont\n",
    "\n",
    "* l'addition `+` ;\n",
    "* la soustraction `-` ;\n",
    "* la multiplication `*` ;\n",
    "* l'exponentiation `**` ;\n",
    "* le quotient de la division euclidienne (ou *division entière*) `//` ;\n",
    "* le reste de la division euclidienne (... *modulo* ...) `%`."
   ]
  },
  {
   "cell_type": "code",
   "execution_count": null,
   "metadata": {},
   "outputs": [],
   "source": [
    "15 + (-2)"
   ]
  },
  {
   "cell_type": "code",
   "execution_count": null,
   "metadata": {},
   "outputs": [],
   "source": [
    "15 - 2"
   ]
  },
  {
   "cell_type": "code",
   "execution_count": null,
   "metadata": {},
   "outputs": [],
   "source": [
    "2 * 8956"
   ]
  },
  {
   "cell_type": "code",
   "execution_count": null,
   "metadata": {},
   "outputs": [],
   "source": [
    "2**8"
   ]
  },
  {
   "cell_type": "code",
   "execution_count": null,
   "metadata": {},
   "outputs": [],
   "source": [
    "25 // 2"
   ]
  },
  {
   "cell_type": "code",
   "execution_count": null,
   "metadata": {},
   "outputs": [],
   "source": [
    "25 % 2"
   ]
  },
  {
   "cell_type": "code",
   "execution_count": null,
   "metadata": {},
   "outputs": [],
   "source": [
    "(25 // 2) * 2 + 25 % 2"
   ]
  },
  {
   "cell_type": "markdown",
   "metadata": {},
   "source": [
    "Il existe également un opérateur *préfixe* : l'opposition `-(...)`."
   ]
  },
  {
   "cell_type": "code",
   "execution_count": null,
   "metadata": {},
   "outputs": [],
   "source": [
    "-(15 + 2)"
   ]
  },
  {
   "cell_type": "markdown",
   "metadata": {},
   "source": [
    "Comme en mathématiques, il existe des règles de priorité quant à l'évaluation des différentes opérations. On parle de *précédence* des opérateurs."
   ]
  },
  {
   "cell_type": "markdown",
   "metadata": {},
   "source": [
    "### Le type flottant `float`\n",
    "\n",
    "Les nombres réels peuvent posséder un nombre de chiffres infini (pensons à $\\pi$ par exemple). La mémoire d'un ordinateur étant nécessairement de taille finie, il a fallu trouver un moyen de représenter, parfois approximativement, ces nombres réels à l'aide d'un nombre fini de chiffres : c'est le type flottant. \n",
    "\n",
    "Les constantes s'écrivent généralement sous la forme `<signe><mantisse>e<exposant>` et parfois plus simplement sous la forme `<signe><nombre_avec_un_point>`."
   ]
  },
  {
   "cell_type": "code",
   "execution_count": null,
   "metadata": {},
   "outputs": [],
   "source": [
    "1."
   ]
  },
  {
   "cell_type": "code",
   "execution_count": null,
   "metadata": {},
   "outputs": [],
   "source": [
    "2e5"
   ]
  },
  {
   "cell_type": "code",
   "execution_count": null,
   "metadata": {},
   "outputs": [],
   "source": [
    "-2.85e11"
   ]
  },
  {
   "cell_type": "markdown",
   "metadata": {},
   "source": [
    "Les opérateurs sur les flottants sont :\n",
    "\n",
    "* l'addition (`+`) ;\n",
    "* la soustraction (`-`) ;\n",
    "* la multiplication (`*`) ;\n",
    "* la division (`/`) ;\n",
    "* l'exponentiation (`**`) ;\n",
    "* l'opposition (`-(...)`).\n",
    "\n",
    "Notons que le type `float` réserve quelques fois quelques surprises lors de l'évalution d'expressions qui semblent anodines :"
   ]
  },
  {
   "cell_type": "code",
   "execution_count": null,
   "metadata": {},
   "outputs": [],
   "source": [
    "0.1 + 0.2"
   ]
  },
  {
   "cell_type": "code",
   "execution_count": null,
   "metadata": {},
   "outputs": [],
   "source": [
    "0.1 + 0.1 + 0.1 + 0.1 + 0.1 + 0.1 + 0.1 + 0.1 + 0.1 + 0.1 == 1."
   ]
  },
  {
   "cell_type": "markdown",
   "metadata": {},
   "source": [
    "Remarquons qu'il est possible de convertir les entiers en flottants :"
   ]
  },
  {
   "cell_type": "code",
   "execution_count": null,
   "metadata": {},
   "outputs": [],
   "source": [
    "type(float(-45))"
   ]
  },
  {
   "cell_type": "markdown",
   "metadata": {},
   "source": [
    "ou les flottants en entiers :"
   ]
  },
  {
   "cell_type": "code",
   "execution_count": null,
   "metadata": {},
   "outputs": [],
   "source": [
    "int(3.28756e3)"
   ]
  },
  {
   "cell_type": "code",
   "execution_count": null,
   "metadata": {},
   "outputs": [],
   "source": [
    "type(int(3.28756e3))"
   ]
  },
  {
   "cell_type": "markdown",
   "metadata": {},
   "source": [
    "### Le type booléen `bool`\n",
    "\n",
    "Il existe deux constantes : `True` et `False` (noter les majuscules)."
   ]
  },
  {
   "cell_type": "code",
   "execution_count": null,
   "metadata": {},
   "outputs": [],
   "source": [
    "type(True)"
   ]
  },
  {
   "cell_type": "markdown",
   "metadata": {},
   "source": [
    "Les opérateurs sur les booléens sont :\n",
    "\n",
    "* le *non* (négation, `not`, préfixe) ;\n",
    "* le *et* (conjonction, `and`, infixe) ;\n",
    "* le *ou* (disjonction, `or`, infixe)."
   ]
  },
  {
   "cell_type": "code",
   "execution_count": null,
   "metadata": {},
   "outputs": [],
   "source": [
    "not True"
   ]
  },
  {
   "cell_type": "code",
   "execution_count": null,
   "metadata": {},
   "outputs": [],
   "source": [
    "True and False"
   ]
  },
  {
   "cell_type": "code",
   "execution_count": null,
   "metadata": {},
   "outputs": [],
   "source": [
    "True or False"
   ]
  },
  {
   "cell_type": "code",
   "execution_count": null,
   "metadata": {},
   "outputs": [],
   "source": [
    "True or None"
   ]
  },
  {
   "cell_type": "code",
   "execution_count": null,
   "metadata": {},
   "outputs": [],
   "source": [
    "False or None"
   ]
  },
  {
   "cell_type": "code",
   "execution_count": null,
   "metadata": {},
   "outputs": [],
   "source": [
    "not None"
   ]
  },
  {
   "cell_type": "markdown",
   "metadata": {},
   "source": [
    "La plupart du temps, les booléens apparaissent dans un contexte de comparaisons, mettant en jeu les opérateurs de comparaison (définis pour certains types)."
   ]
  },
  {
   "cell_type": "code",
   "execution_count": null,
   "metadata": {},
   "outputs": [],
   "source": [
    "1 < 0"
   ]
  },
  {
   "cell_type": "code",
   "execution_count": null,
   "metadata": {},
   "outputs": [],
   "source": [
    "2.5 >= 1.02e-1"
   ]
  },
  {
   "cell_type": "code",
   "execution_count": null,
   "metadata": {},
   "outputs": [],
   "source": [
    "0.1 + 0.1 + 0.1 == 0.3"
   ]
  },
  {
   "cell_type": "code",
   "execution_count": null,
   "metadata": {},
   "outputs": [],
   "source": [
    "\"2\" != 2"
   ]
  },
  {
   "cell_type": "code",
   "execution_count": null,
   "metadata": {},
   "outputs": [],
   "source": [
    "2. != 2"
   ]
  },
  {
   "cell_type": "markdown",
   "metadata": {},
   "source": [
    "### Le type chaîne de caractères (`str`) [*string*]"
   ]
  },
  {
   "cell_type": "markdown",
   "metadata": {},
   "source": [
    "Une chaîne de caractères est une suite finie de caractères, délimitée par `'...'` ou `\"...\"` s'il n'y a qu'un seul paragraphe ou par `'''...'''` ou `\"\"\"...\"\"\"` s'il y en a plusieurs. En Python, il peut s'agir de n'importe quel caractère unicode."
   ]
  },
  {
   "cell_type": "code",
   "execution_count": null,
   "metadata": {},
   "outputs": [],
   "source": [
    "type('العربية, 中文, Français, עברי, Yeah !$ 1984')"
   ]
  },
  {
   "cell_type": "markdown",
   "metadata": {},
   "source": [
    "On accède au `n`ième caractère de la chaîne en \"collant\" à la chaîne de caractères `[<n-1>]`. Rappelons qu'en Python, l'indexation des séquences commence à `0`."
   ]
  },
  {
   "cell_type": "code",
   "execution_count": null,
   "metadata": {},
   "outputs": [],
   "source": [
    "'العربية, 中文, Français, עברי, Yeah !$ 1984'[1]"
   ]
  },
  {
   "cell_type": "code",
   "execution_count": null,
   "metadata": {},
   "outputs": [],
   "source": [
    "'Decour'[0]"
   ]
  },
  {
   "cell_type": "markdown",
   "metadata": {},
   "source": [
    "Il est aussi possible d'accéder aux caractères à partir de la fin de la chaîne :"
   ]
  },
  {
   "cell_type": "code",
   "execution_count": null,
   "metadata": {},
   "outputs": [],
   "source": [
    "'Decour'[-1]"
   ]
  },
  {
   "cell_type": "markdown",
   "metadata": {},
   "source": [
    "De nombreux opérateurs sont disponibles pour le type `str`. Citons\n",
    "\n",
    "* la concaténation de deux chaînes `+` :"
   ]
  },
  {
   "cell_type": "code",
   "execution_count": null,
   "metadata": {},
   "outputs": [],
   "source": [
    "'Jacques' + \" \" + \"\"\"Decour\n",
    "Avenue de Trudaine\"\"\""
   ]
  },
  {
   "cell_type": "markdown",
   "metadata": {},
   "source": [
    "* la longueur d'une chaîne `len(...)` :"
   ]
  },
  {
   "cell_type": "code",
   "execution_count": null,
   "metadata": {},
   "outputs": [],
   "source": [
    "len('Jacques Decour')"
   ]
  },
  {
   "cell_type": "markdown",
   "metadata": {},
   "source": [
    "* l'accès à une sous-chaîne, du caractère `n` au caractère `m` inclus, `...[<n-1>:<m>]`, avec `m > n-1` :"
   ]
  },
  {
   "cell_type": "code",
   "execution_count": null,
   "metadata": {},
   "outputs": [],
   "source": [
    "\"Jacques Decour\"[3:5]"
   ]
  },
  {
   "cell_type": "code",
   "execution_count": null,
   "metadata": {},
   "outputs": [],
   "source": [
    "\"Jacques Decour\"[3:3]"
   ]
  },
  {
   "cell_type": "markdown",
   "metadata": {},
   "source": [
    "* le test d'appartenance `... in ...` :"
   ]
  },
  {
   "cell_type": "code",
   "execution_count": null,
   "metadata": {},
   "outputs": [],
   "source": [
    "'ac' in \"Jacques Decour\""
   ]
  },
  {
   "cell_type": "markdown",
   "metadata": {},
   "source": [
    "### Le type liste (`list`)"
   ]
  },
  {
   "cell_type": "markdown",
   "metadata": {},
   "source": [
    "Une liste est une suite finie d'objets. Ces objets peuvent être de types différents, mais en Python, l'habitude veut que ces objets soient de même type. Les constantes sont de la forme `[<objet0>, <objet1>, ..., <objetn>]`."
   ]
  },
  {
   "cell_type": "code",
   "execution_count": null,
   "metadata": {},
   "outputs": [],
   "source": [
    "[1, 2]"
   ]
  },
  {
   "cell_type": "code",
   "execution_count": null,
   "metadata": {},
   "outputs": [],
   "source": [
    "['J', 'a', 'c', 'q', 'u', 'e', 's']"
   ]
  },
  {
   "cell_type": "code",
   "execution_count": null,
   "metadata": {},
   "outputs": [],
   "source": [
    "[True, False, False]"
   ]
  },
  {
   "cell_type": "code",
   "execution_count": null,
   "metadata": {},
   "outputs": [],
   "source": [
    "[5, True, 'Toto', 3.]"
   ]
  },
  {
   "cell_type": "markdown",
   "metadata": {},
   "source": [
    "De nombreux opérateurs sont disponibles pour le type `str`. Citons\n",
    "\n",
    "* la concaténation de deux listes `+` :"
   ]
  },
  {
   "cell_type": "code",
   "execution_count": null,
   "metadata": {},
   "outputs": [],
   "source": [
    "[1, 2] + [3, 4]"
   ]
  },
  {
   "cell_type": "markdown",
   "metadata": {},
   "source": [
    "* l'ajout d'un élément `.append` :"
   ]
  },
  {
   "cell_type": "code",
   "execution_count": null,
   "metadata": {},
   "outputs": [],
   "source": [
    "L = [1, 2]\n",
    "L.append(3)\n",
    "L"
   ]
  },
  {
   "cell_type": "code",
   "execution_count": null,
   "metadata": {},
   "outputs": [],
   "source": [
    "L = L + [4]"
   ]
  },
  {
   "cell_type": "code",
   "execution_count": null,
   "metadata": {},
   "outputs": [],
   "source": [
    "L"
   ]
  },
  {
   "cell_type": "code",
   "execution_count": null,
   "metadata": {},
   "outputs": [],
   "source": [
    "L += [5]\n",
    "L"
   ]
  },
  {
   "cell_type": "markdown",
   "metadata": {},
   "source": [
    "On retrouve également les mêmes opérateurs que pour les chaînes de caractères :"
   ]
  },
  {
   "cell_type": "code",
   "execution_count": null,
   "metadata": {},
   "outputs": [],
   "source": [
    "len([1, 2, 3])"
   ]
  },
  {
   "cell_type": "code",
   "execution_count": null,
   "metadata": {},
   "outputs": [],
   "source": [
    "[1, 2, 3][0]"
   ]
  },
  {
   "cell_type": "code",
   "execution_count": null,
   "metadata": {},
   "outputs": [],
   "source": [
    "[1, 2 , 3][-2]"
   ]
  },
  {
   "cell_type": "code",
   "execution_count": null,
   "metadata": {},
   "outputs": [],
   "source": [
    "[1, 2, 3][1:2]"
   ]
  },
  {
   "cell_type": "markdown",
   "metadata": {},
   "source": [
    "## Bibliothèques utiles\n",
    "\n",
    "Il peut être intéressant de faire quelques opérations mathématiques avancées de temps en temps. Pour cela, le plus simple est d'utiliser la [bibliothèque `math`](https://docs.python.org/3.3/library/math.html)."
   ]
  },
  {
   "cell_type": "code",
   "execution_count": null,
   "metadata": {},
   "outputs": [],
   "source": [
    "import math\n",
    "math.sqrt(2)"
   ]
  },
  {
   "cell_type": "code",
   "execution_count": null,
   "metadata": {},
   "outputs": [],
   "source": []
  },
  {
   "cell_type": "markdown",
   "metadata": {},
   "source": [
    "Mais cette bibliothèque trouve assez rapidement ses limites losqu'il s'agit de faire du calcul scientifique avancé. Aussi, la plupart du temps, on se sert de la [bibliothèque `numpy`](http://numpy.org/) et parfois de la [bibliothèque `scipy`](http://scipy.org/). Ces deux bibliothèques sont souvent utilisées de manière conjointe avec la [bibliothèque `matplotlib`](http://matplotlib.org/)."
   ]
  },
  {
   "cell_type": "code",
   "execution_count": null,
   "metadata": {},
   "outputs": [],
   "source": [
    "# Permet de ne pas ouvrir de fenêtre extérieure dans jupyter\n",
    "%matplotlib inline\n",
    "\n",
    "import numpy as np\n",
    "from matplotlib import pyplot as plt\n",
    "t = np.linspace(0, 1e-2, 100)\n",
    "f = 1e3\n",
    "x = np.sin(2 * np.pi * f * t)\n",
    "plt.plot(t, x)\n",
    "plt.show()"
   ]
  },
  {
   "cell_type": "markdown",
   "metadata": {},
   "source": [
    "Ces bibliothèques, très puissantes, font apparaître de nouveaux types d'objet. `numpy` introduit en particulier le type `ndarray`."
   ]
  },
  {
   "cell_type": "code",
   "execution_count": null,
   "metadata": {},
   "outputs": [],
   "source": [
    "type(np.linspace(0,10))"
   ]
  },
  {
   "cell_type": "code",
   "execution_count": null,
   "metadata": {},
   "outputs": [],
   "source": [
    "my_list = [0, 1, 2]"
   ]
  },
  {
   "cell_type": "markdown",
   "metadata": {
    "collapsed": true
   },
   "source": [
    "## De la programmation...\n",
    "\n",
    "Un script Python est lu séquentiellement par l'interpréteur. Il est possible d'altérer ce mode de lecture essentiellement à l'aide de trois types de structure :\n",
    "\n",
    "* les structures conditionnelles ;\n",
    "* les structures de boucles inconditionnelles ;\n",
    "* les structures de boucles conditionnelles.\n",
    "\n",
    "En Python, les structures sont délimitées par l'*indentation* du code."
   ]
  },
  {
   "cell_type": "markdown",
   "metadata": {},
   "source": [
    "### Structures conditionnelles\n",
    "\n",
    "Les structures conditionnelles commencent par l'*instruction* `if`. Elles peuvent être :\n",
    "\n",
    "* simples :"
   ]
  },
  {
   "cell_type": "code",
   "execution_count": null,
   "metadata": {},
   "outputs": [],
   "source": [
    "if 1 == 1:\n",
    "    print(\"C'est rassurant...\")"
   ]
  },
  {
   "cell_type": "markdown",
   "metadata": {},
   "source": [
    "* avec une alternative :"
   ]
  },
  {
   "cell_type": "code",
   "execution_count": null,
   "metadata": {},
   "outputs": [],
   "source": [
    "if 1 == 1:\n",
    "    print(\"C'est rassurant...\")\n",
    "else:\n",
    "    print(\"C'est inquiétant...\")"
   ]
  },
  {
   "cell_type": "markdown",
   "metadata": {},
   "source": [
    "* avec de multiples alternatives :"
   ]
  },
  {
   "cell_type": "code",
   "execution_count": null,
   "metadata": {},
   "outputs": [],
   "source": [
    "chaine = 'Test'\n",
    "if chaine == 'Toto':\n",
    "    print('Toto')\n",
    "elif chaine == 'Tata':\n",
    "    print('Tata')\n",
    "elif chaine == 'Tutu':\n",
    "    print('Tutu')\n",
    "elif chaine == 'Test':\n",
    "    print('Test')\n",
    "    print(u\"Mais c'est bien sûr\")\n",
    "else:\n",
    "    print('Autre chose')"
   ]
  },
  {
   "cell_type": "markdown",
   "metadata": {},
   "source": [
    "Remarquons que les différents embranchements de la structures conditionnelle forment des *blocs* repérables à l'*indentation*. Les bloc suivent toujours un `:` et sont délimités par une indentation commune. Bien sûr, il est possible de positionner des blocs à l'intérieurs d'autres blocs."
   ]
  },
  {
   "cell_type": "code",
   "execution_count": null,
   "metadata": {},
   "outputs": [],
   "source": [
    "chaine = 'Test'\n",
    "if chaine == 'Test':\n",
    "    if 'o' in chaine:\n",
    "        print(\"Bizarre qu'on soit là...\")\n",
    "    else:\n",
    "        print(\"Tout semble normal\")"
   ]
  },
  {
   "cell_type": "markdown",
   "metadata": {},
   "source": [
    "### Structures de boucles inconditionnelles\n",
    "\n",
    "Une structure de boucle permet de répéter un certain nombre de fois le contenu d'un bloc. Lorsque l'on connaît à l'avance le nombre d'*itérations* nécessaires, on utilise préférentiellement une sutructure de boucle inconditionnelle.\n",
    "\n",
    "Les structures de boucles inconditionnelles commencent par l'instruction `for` suivi d'un objet auquel la boucle va se charger de donner des valeurs successives à l'intérieur d'un intervalle donné selon une méthode d'incrémentation donnée (à l'aide de l'instruction `in`)."
   ]
  },
  {
   "cell_type": "code",
   "execution_count": null,
   "metadata": {},
   "outputs": [],
   "source": [
    "for i in range(10):\n",
    "    print(i)"
   ]
  },
  {
   "cell_type": "code",
   "execution_count": null,
   "metadata": {},
   "outputs": [],
   "source": [
    "for lettre in \"chat\":\n",
    "    print(lettre)"
   ]
  },
  {
   "cell_type": "markdown",
   "metadata": {},
   "source": [
    "### Structures de boucles conditionnelles\n",
    "\n",
    "Lorsque l'on ne connaît par à l'avance le nombre d'*itérations* nécessaires, on utilise une sutructure de boucle conditionnelle.\n",
    "\n",
    "Les structures de boucles conditionnelles commencent par l'instruction `while` suivi d'une condition. Contrairement à la \"boucle `for`\", la \"boucle `while`\" n'itère pas toute seule un objet. Il faut le faire \"à la main\"."
   ]
  },
  {
   "cell_type": "code",
   "execution_count": null,
   "metadata": {},
   "outputs": [],
   "source": [
    "somme = 0\n",
    "n = 1\n",
    "while n < 11:\n",
    "    somme = somme + n\n",
    "    n = n + 1\n",
    "print(somme)"
   ]
  },
  {
   "cell_type": "markdown",
   "metadata": {},
   "source": [
    "**Note importante :** Il est tout à fait possible que le programme rentre dans un boucle et n'en sorte jamais (c'est une erreur classique). Il faut alors forcer l'arrêt du programme (souvent en utilisant la combinaison <kbd>CTRL</kbd>+<kbd>C</kbd>), ce qui est parfois plus ou moins bien accepté par l'environnement de travail."
   ]
  },
  {
   "cell_type": "markdown",
   "metadata": {},
   "source": [
    "## De la programmation (2)...\n",
    "\n",
    "Une autre structure très importante en programmation est la structure permettant de définir des *fonctions*. Ces structures commencent par l'instruction `def` suivie du nom de la fonction. Cette fonction peut avoir ou non des paramètres."
   ]
  },
  {
   "cell_type": "code",
   "execution_count": null,
   "metadata": {},
   "outputs": [],
   "source": [
    "def somme(n):\n",
    "    i = 1\n",
    "    j = 0\n",
    "    while i <= n:\n",
    "        j = j + i\n",
    "        i = i + 1\n",
    "    return j\n",
    "print(somme(10))"
   ]
  },
  {
   "cell_type": "markdown",
   "metadata": {},
   "source": [
    "`somme(10)` constitue un *appel* de la fonction à l'aide de l'*argument effectif* `10`. Le corps de la fonction se charge de traiter cet appel et retourne une valeur *via* l'instruction `return`.\n",
    "\n",
    "Notons que le corps d'une fonction (de la même manière qu'un programme) peut devenir rapidement illisible. C'est la raison pour laquelle il est impératif de commenter le code. Le commentaire de code s'effectue de manière générale à l'aide du caractère `#` :"
   ]
  },
  {
   "cell_type": "code",
   "execution_count": null,
   "metadata": {},
   "outputs": [],
   "source": [
    "# Ceci est un commentaire\n",
    "print(\"Cela n'est pas un commentaire\")"
   ]
  },
  {
   "cell_type": "markdown",
   "metadata": {},
   "source": [
    "Pour les fonctions, Python offre un autre mécanisme qui permet d'accéder facilement, dans un IDE, à la documentation de la fonction :"
   ]
  },
  {
   "cell_type": "code",
   "execution_count": null,
   "metadata": {},
   "outputs": [],
   "source": [
    "def somme(n):\n",
    "    \"\"\"Calcule la somme des n premiers entiers\"\"\"\n",
    "    i = 1\n",
    "    j = 0\n",
    "    while i <= n:\n",
    "        j = j + i\n",
    "        i = i + 1\n",
    "    return j\n",
    "print(somme(10))"
   ]
  }
 ],
 "metadata": {
  "kernelspec": {
   "display_name": "Python 3",
   "language": "python",
   "name": "python3"
  },
  "language_info": {
   "codemirror_mode": {
    "name": "ipython",
    "version": 3
   },
   "file_extension": ".py",
   "mimetype": "text/x-python",
   "name": "python",
   "nbconvert_exporter": "python",
   "pygments_lexer": "ipython3",
   "version": "3.7.1"
  }
 },
 "nbformat": 4,
 "nbformat_minor": 1
}
